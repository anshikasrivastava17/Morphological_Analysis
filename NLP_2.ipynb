{
 "cells": [
  {
   "cell_type": "code",
   "execution_count": null,
   "metadata": {},
   "outputs": [],
   "source": [
    "import stanza\n",
    "import pandas as pd\n",
    "import matplotlib.pyplot as plt\n",
    "import seaborn as sns\n",
    "from tabulate import tabulate \n",
    "\n",
    "stanza.download(\"fr\")\n",
    "nlp_fr = stanza.Pipeline(\"fr\")\n",
    "\n",
    "sentence_fr = \"La science n'est pas la vérité. La science cherche la vérité. Quand la science change d'avis, elle n'a pas menti. Elle en a appris plus.\"\n",
    "doc_fr = nlp_fr(sentence_fr)\n",
    "\n",
    "results_fr = [[word.text, word.lemma, word.upos] for sent in doc_fr.sentences for word in sent.words]\n",
    "\n",
    "df_fr = pd.DataFrame(results_fr, columns=[\"Word\", \"Lemma\", \"POS\"])\n",
    "\n",
    "print(tabulate(df_fr, headers=\"keys\", tablefmt=\"fancy_grid\"))  \n",
    "\n",
    "plt.figure(figsize=(10, 5))\n",
    "sns.countplot(data=df_fr, x=\"POS\", hue=\"POS\", palette=\"coolwarm\", legend=False)\n",
    "plt.title(\"Part of Speech Distribution - French\")\n",
    "plt.xticks(rotation=45)\n",
    "plt.xlabel(\"Part of Speech (POS)\")\n",
    "plt.ylabel(\"Count\")\n",
    "plt.show()"
   ]
  }
 ],
 "metadata": {
  "language_info": {
   "name": "python"
  }
 },
 "nbformat": 4,
 "nbformat_minor": 2
}
